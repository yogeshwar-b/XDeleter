{
 "cells": [
  {
   "cell_type": "code",
   "execution_count": 21,
   "metadata": {},
   "outputs": [],
   "source": [
    "import time\n",
    "from selenium import webdriver\n",
    "from selenium.webdriver import ChromeOptions, Keys\n",
    "from selenium.webdriver.common.by import By\n",
    "from selenium.webdriver.support import expected_conditions as EC\n",
    "from selenium.webdriver.support.wait import WebDriverWait\n",
    "from creds import uname,pword\n",
    "\n",
    "options = ChromeOptions()\n",
    "prefs = {\"credentials_enable_service\": False,\n",
    "     \"profile.password_manager_enabled\": False}\n",
    "\n",
    "options.add_argument(\"--start-maximized\")\n",
    "options.add_experimental_option(\"excludeSwitches\", [\"enable-automation\"])\n",
    "options.add_experimental_option(\"prefs\", prefs)\n",
    "\n",
    "\n",
    "driver = webdriver.Chrome(options=options)\n",
    "url = \"https://twitter.com/i/flow/login\"\n",
    "driver.get(url)\n",
    "\n",
    "username = WebDriverWait(driver, 60).until(EC.visibility_of_element_located((By.CSS_SELECTOR, 'input[autocomplete=\"username\"]')))\n",
    "username.send_keys(uname)\n",
    "username.send_keys(Keys.ENTER)\n",
    "\n",
    "password = WebDriverWait(driver, 10).until(EC.visibility_of_element_located((By.CSS_SELECTOR, 'input[name=\"password\"]')))\n",
    "password.send_keys(pword)\n",
    "password.send_keys(Keys.ENTER)\n",
    "\n",
    "time.sleep(10)"
   ]
  },
  {
   "cell_type": "code",
   "execution_count": 22,
   "metadata": {},
   "outputs": [],
   "source": [
    "url=f\"https://x.com/{uname}\"\n",
    "driver.get(url)\n"
   ]
  },
  {
   "cell_type": "code",
   "execution_count": null,
   "metadata": {},
   "outputs": [],
   "source": [
    "#Number of tweets to delete\n",
    "NumberOfTweets=100\n",
    "for _ in range(NumberOfTweets):\n",
    "\n",
    "    try:\n",
    "        time.sleep(2)\n",
    "        morebutton = WebDriverWait(driver, 1).until(EC.visibility_of_element_located((By.CSS_SELECTOR, 'button[aria-label=\"More\"]')))\n",
    "        morebutton.click()\n",
    "\n",
    "        menuitem0= WebDriverWait(driver, 20).until(EC.visibility_of_element_located((By.CSS_SELECTOR, 'div[role=\"menuitem\"]')))\n",
    "        menuitem0.click()\n",
    "\n",
    "        deletebutton = WebDriverWait(driver, 20).until(EC.visibility_of_element_located((By.CSS_SELECTOR, 'button[data-testid=\"confirmationSheetConfirm\"]')))\n",
    "        deletebutton.click()\n",
    "        print('delete success')\n",
    "    except:\n",
    "        print('more button not found , Reloading the page')\n",
    "        url=f\"https://x.com/{uname}\"\n",
    "        driver.get(url)\n",
    "\n"
   ]
  }
 ],
 "metadata": {
  "kernelspec": {
   "display_name": ".venv",
   "language": "python",
   "name": "python3"
  },
  "language_info": {
   "codemirror_mode": {
    "name": "ipython",
    "version": 3
   },
   "file_extension": ".py",
   "mimetype": "text/x-python",
   "name": "python",
   "nbconvert_exporter": "python",
   "pygments_lexer": "ipython3",
   "version": "3.12.6"
  }
 },
 "nbformat": 4,
 "nbformat_minor": 2
}
